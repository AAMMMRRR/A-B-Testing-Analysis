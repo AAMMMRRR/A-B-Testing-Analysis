{
 "cells": [
  {
   "cell_type": "markdown",
   "id": "e66a7f5a",
   "metadata": {},
   "source": [
    "# A/B Testing Analysis\n",
    "\n",
    "This notebook analyzes the results of an A/B test comparing two landing pages (old vs. new) to determine if the new page improves user conversion rates. The dataset contains user interactions, including whether they converted (e.g., made a purchase or signed up) after visiting either the control (old_page) or treatment (new_page) landing page. The analysis includes data cleaning, exploratory data analysis, hypothesis testing, and confidence interval estimation to draw statistically sound conclusions.\n",
    "\n",
    "### Sections:\n",
    "- Data Loading and Initial Exploration\n",
    "- Data Cleaning\n",
    "- Exploratory Data Analysis\n",
    "- Hypothesis Testing\n",
    "- Confidence Intervals\n",
    "- Conclusion and Recommendations"
   ]
  },
  {
   "cell_type": "markdown",
   "id": "747fc009",
   "metadata": {},
   "source": [
    "# Load and inspect the data"
   ]
  },
  {
   "cell_type": "code",
   "execution_count": 1,
   "id": "0b7c1bc8",
   "metadata": {},
   "outputs": [
    {
     "data": {
      "text/html": [
       "<div>\n",
       "<style scoped>\n",
       "    .dataframe tbody tr th:only-of-type {\n",
       "        vertical-align: middle;\n",
       "    }\n",
       "\n",
       "    .dataframe tbody tr th {\n",
       "        vertical-align: top;\n",
       "    }\n",
       "\n",
       "    .dataframe thead th {\n",
       "        text-align: right;\n",
       "    }\n",
       "</style>\n",
       "<table border=\"1\" class=\"dataframe\">\n",
       "  <thead>\n",
       "    <tr style=\"text-align: right;\">\n",
       "      <th></th>\n",
       "      <th>user_id</th>\n",
       "      <th>timestamp</th>\n",
       "      <th>group</th>\n",
       "      <th>landing_page</th>\n",
       "      <th>converted</th>\n",
       "    </tr>\n",
       "  </thead>\n",
       "  <tbody>\n",
       "    <tr>\n",
       "      <th>0</th>\n",
       "      <td>851104</td>\n",
       "      <td>2017-01-21 22:11:48.556739</td>\n",
       "      <td>control</td>\n",
       "      <td>old_page</td>\n",
       "      <td>0</td>\n",
       "    </tr>\n",
       "    <tr>\n",
       "      <th>1</th>\n",
       "      <td>804228</td>\n",
       "      <td>2017-01-12 08:01:45.159739</td>\n",
       "      <td>control</td>\n",
       "      <td>old_page</td>\n",
       "      <td>0</td>\n",
       "    </tr>\n",
       "    <tr>\n",
       "      <th>2</th>\n",
       "      <td>661590</td>\n",
       "      <td>2017-01-11 16:55:06.154213</td>\n",
       "      <td>treatment</td>\n",
       "      <td>new_page</td>\n",
       "      <td>0</td>\n",
       "    </tr>\n",
       "    <tr>\n",
       "      <th>3</th>\n",
       "      <td>853541</td>\n",
       "      <td>2017-01-08 18:28:03.143765</td>\n",
       "      <td>treatment</td>\n",
       "      <td>new_page</td>\n",
       "      <td>0</td>\n",
       "    </tr>\n",
       "    <tr>\n",
       "      <th>4</th>\n",
       "      <td>864975</td>\n",
       "      <td>2017-01-21 01:52:26.210827</td>\n",
       "      <td>control</td>\n",
       "      <td>old_page</td>\n",
       "      <td>1</td>\n",
       "    </tr>\n",
       "  </tbody>\n",
       "</table>\n",
       "</div>"
      ],
      "text/plain": [
       "   user_id                   timestamp      group landing_page  converted\n",
       "0   851104  2017-01-21 22:11:48.556739    control     old_page          0\n",
       "1   804228  2017-01-12 08:01:45.159739    control     old_page          0\n",
       "2   661590  2017-01-11 16:55:06.154213  treatment     new_page          0\n",
       "3   853541  2017-01-08 18:28:03.143765  treatment     new_page          0\n",
       "4   864975  2017-01-21 01:52:26.210827    control     old_page          1"
      ]
     },
     "execution_count": 1,
     "metadata": {},
     "output_type": "execute_result"
    }
   ],
   "source": [
    "import pandas as pd\n",
    "df = pd.read_csv(\"C:/Users/amro6/Downloads/ab_data.csv\")\n",
    "\n",
    "# Quick look at the data\n",
    "df.head()"
   ]
  },
  {
   "cell_type": "code",
   "execution_count": 2,
   "id": "f0e5709e",
   "metadata": {},
   "outputs": [
    {
     "name": "stdout",
     "output_type": "stream",
     "text": [
      "<class 'pandas.core.frame.DataFrame'>\n",
      "RangeIndex: 294478 entries, 0 to 294477\n",
      "Data columns (total 5 columns):\n",
      " #   Column        Non-Null Count   Dtype \n",
      "---  ------        --------------   ----- \n",
      " 0   user_id       294478 non-null  int64 \n",
      " 1   timestamp     294478 non-null  object\n",
      " 2   group         294478 non-null  object\n",
      " 3   landing_page  294478 non-null  object\n",
      " 4   converted     294478 non-null  int64 \n",
      "dtypes: int64(2), object(3)\n",
      "memory usage: 11.2+ MB\n"
     ]
    }
   ],
   "source": [
    "df.info()"
   ]
  },
  {
   "cell_type": "code",
   "execution_count": 3,
   "id": "fa35ef42",
   "metadata": {},
   "outputs": [
    {
     "data": {
      "text/html": [
       "<div>\n",
       "<style scoped>\n",
       "    .dataframe tbody tr th:only-of-type {\n",
       "        vertical-align: middle;\n",
       "    }\n",
       "\n",
       "    .dataframe tbody tr th {\n",
       "        vertical-align: top;\n",
       "    }\n",
       "\n",
       "    .dataframe thead th {\n",
       "        text-align: right;\n",
       "    }\n",
       "</style>\n",
       "<table border=\"1\" class=\"dataframe\">\n",
       "  <thead>\n",
       "    <tr style=\"text-align: right;\">\n",
       "      <th></th>\n",
       "      <th>user_id</th>\n",
       "      <th>converted</th>\n",
       "    </tr>\n",
       "  </thead>\n",
       "  <tbody>\n",
       "    <tr>\n",
       "      <th>count</th>\n",
       "      <td>294478.000000</td>\n",
       "      <td>294478.000000</td>\n",
       "    </tr>\n",
       "    <tr>\n",
       "      <th>mean</th>\n",
       "      <td>787974.124733</td>\n",
       "      <td>0.119659</td>\n",
       "    </tr>\n",
       "    <tr>\n",
       "      <th>std</th>\n",
       "      <td>91210.823776</td>\n",
       "      <td>0.324563</td>\n",
       "    </tr>\n",
       "    <tr>\n",
       "      <th>min</th>\n",
       "      <td>630000.000000</td>\n",
       "      <td>0.000000</td>\n",
       "    </tr>\n",
       "    <tr>\n",
       "      <th>25%</th>\n",
       "      <td>709032.250000</td>\n",
       "      <td>0.000000</td>\n",
       "    </tr>\n",
       "    <tr>\n",
       "      <th>50%</th>\n",
       "      <td>787933.500000</td>\n",
       "      <td>0.000000</td>\n",
       "    </tr>\n",
       "    <tr>\n",
       "      <th>75%</th>\n",
       "      <td>866911.750000</td>\n",
       "      <td>0.000000</td>\n",
       "    </tr>\n",
       "    <tr>\n",
       "      <th>max</th>\n",
       "      <td>945999.000000</td>\n",
       "      <td>1.000000</td>\n",
       "    </tr>\n",
       "  </tbody>\n",
       "</table>\n",
       "</div>"
      ],
      "text/plain": [
       "             user_id      converted\n",
       "count  294478.000000  294478.000000\n",
       "mean   787974.124733       0.119659\n",
       "std     91210.823776       0.324563\n",
       "min    630000.000000       0.000000\n",
       "25%    709032.250000       0.000000\n",
       "50%    787933.500000       0.000000\n",
       "75%    866911.750000       0.000000\n",
       "max    945999.000000       1.000000"
      ]
     },
     "execution_count": 3,
     "metadata": {},
     "output_type": "execute_result"
    }
   ],
   "source": [
    "df.describe()"
   ]
  },
  {
   "cell_type": "code",
   "execution_count": 4,
   "id": "d3fc0de5",
   "metadata": {},
   "outputs": [
    {
     "data": {
      "text/plain": [
       "user_id         0\n",
       "timestamp       0\n",
       "group           0\n",
       "landing_page    0\n",
       "converted       0\n",
       "dtype: int64"
      ]
     },
     "execution_count": 4,
     "metadata": {},
     "output_type": "execute_result"
    }
   ],
   "source": [
    "df.isna().sum()"
   ]
  },
  {
   "cell_type": "markdown",
   "id": "a033ab30",
   "metadata": {},
   "source": [
    "# Verify Consistency Between Group and Landing Page\n",
    "\n",
    "Ensure that users in the `control` group saw the `old_page` and users in the `treatment` group saw the `new_page`. Mismatches between `group` and `landing_page` could indicate data collection errors, which would skew the analysis. We check for inconsistencies and quantify the number of mismatched rows."
   ]
  },
  {
   "cell_type": "code",
   "execution_count": 5,
   "id": "0cbc33a5",
   "metadata": {},
   "outputs": [
    {
     "data": {
      "text/plain": [
       "(3893, 5)"
      ]
     },
     "execution_count": 5,
     "metadata": {},
     "output_type": "execute_result"
    }
   ],
   "source": [
    "# Check for mismatches\n",
    "df[((df['group'] == 'treatment') & (df['landing_page'] != 'new_page')) |\n",
    "   ((df['group'] == 'control') & (df['landing_page'] != 'old_page'))].shape"
   ]
  },
  {
   "cell_type": "markdown",
   "id": "e332d8d1",
   "metadata": {},
   "source": [
    "# Remove those mismatches:"
   ]
  },
  {
   "cell_type": "code",
   "execution_count": 6,
   "id": "6a1d6a1a",
   "metadata": {},
   "outputs": [],
   "source": [
    "# Keep only rows with consistent group/landing_page pairs\n",
    "df2 = df[((df['group'] == 'treatment') & (df['landing_page'] == 'new_page')) |\n",
    "         ((df['group'] == 'control') & (df['landing_page'] == 'old_page'))]"
   ]
  },
  {
   "cell_type": "markdown",
   "id": "af88ae1c",
   "metadata": {},
   "source": [
    "# Check Group Balance\n",
    "\n",
    "Verify that the control and treatment groups have similar sample sizes to ensure a fair comparison in the A/B test. Imbalanced groups could bias the results of the hypothesis test."
   ]
  },
  {
   "cell_type": "code",
   "execution_count": 10,
   "id": "bd09699f",
   "metadata": {},
   "outputs": [
    {
     "name": "stdout",
     "output_type": "stream",
     "text": [
      "group\n",
      "treatment    145311\n",
      "control      145274\n",
      "Name: count, dtype: int64\n"
     ]
    }
   ],
   "source": [
    "print(df2['group'].value_counts())"
   ]
  },
  {
   "cell_type": "markdown",
   "id": "518c6844",
   "metadata": {},
   "source": [
    "# Remove duplicate user_ids"
   ]
  },
  {
   "cell_type": "code",
   "execution_count": 11,
   "id": "d6418d19",
   "metadata": {},
   "outputs": [
    {
     "data": {
      "text/plain": [
       "1"
      ]
     },
     "execution_count": 11,
     "metadata": {},
     "output_type": "execute_result"
    }
   ],
   "source": [
    "# Check for duplicate users\n",
    "df2['user_id'].duplicated().sum()"
   ]
  },
  {
   "cell_type": "code",
   "execution_count": 12,
   "id": "bf2580a1",
   "metadata": {},
   "outputs": [],
   "source": [
    "# Drop duplicate user_ids\n",
    "df2 = df2.drop_duplicates(subset='user_id')"
   ]
  },
  {
   "cell_type": "markdown",
   "id": "4ba2fa76",
   "metadata": {},
   "source": [
    "### Visualize Conversion Counts by Group\n",
    "\n",
    "Create a count plot to compare the number of conversions (1) and non-conversions (0) between the control and treatment groups. This visualization helps assess the distribution of outcomes and provides a preliminary view of potential differences."
   ]
  },
  {
   "cell_type": "code",
   "execution_count": 14,
   "id": "5134a562",
   "metadata": {},
   "outputs": [
    {
     "data": {
      "image/png": "[encoded data removed]",
      "text/plain": [
       "<Figure size 640x480 with 1 Axes>"
      ]
     },
     "metadata": {},
     "output_type": "display_data"
    }
   ],
   "source": [
    "# Visualize conversion counts by group\n",
    "import seaborn as sns\n",
    "import matplotlib.pyplot as plt\n",
    "\n",
    "sns.countplot(x='group', hue='converted', data=df2)\n",
    "plt.title(\"Converted vs Not Converted by Group\")\n",
    "plt.show()"
   ]
  },
  {
   "cell_type": "markdown",
   "id": "b4cff4ed",
   "metadata": {},
   "source": [
    "# Calculate Conversion Rates\n",
    "\n",
    "Compute the proportion of users who converted (`converted = 1`) in each group to compare the performance of the old and new landing pages."
   ]
  },
  {
   "cell_type": "code",
   "execution_count": 13,
   "id": "4f2dda18",
   "metadata": {},
   "outputs": [
    {
     "name": "stdout",
     "output_type": "stream",
     "text": [
      "group\n",
      "control      0.120386\n",
      "treatment    0.118808\n",
      "Name: converted, dtype: float64\n"
     ]
    }
   ],
   "source": [
    "conversion_rates = df2.groupby('group')['converted'].mean()\n",
    "print(conversion_rates)"
   ]
  },
  {
   "cell_type": "markdown",
   "id": "3131c924",
   "metadata": {},
   "source": [
    "## Hypothesis Testing: Proportions Z-Test\n",
    "\n",
    "Perform a two-sample proportions z-test to compare the conversion rates between the control and treatment groups. The null hypothesis (H₀) assumes no difference in conversion rates between the old and new pages, while the alternative hypothesis (H₁) assumes a difference exists. A p-value < 0.05 would indicate statistical significance at the 5% level."
   ]
  },
  {
   "cell_type": "code",
   "execution_count": 14,
   "id": "612f4f7d",
   "metadata": {},
   "outputs": [
    {
     "name": "stdout",
     "output_type": "stream",
     "text": [
      "z-score: 1.3109\n",
      "p-value: 0.1899\n"
     ]
    }
   ],
   "source": [
    "from statsmodels.stats.proportion import proportions_ztest\n",
    "\n",
    "# number of conversions\n",
    "convert_control = df2[df2['group'] == 'control']['converted'].sum()\n",
    "convert_treatment = df2[df2['group'] == 'treatment']['converted'].sum()\n",
    "\n",
    "# number of users\n",
    "n_control = df2[df2['group'] == 'control'].shape[0]\n",
    "n_treatment = df2[df2['group'] == 'treatment'].shape[0]\n",
    "\n",
    "# successes and observations\n",
    "successes = [convert_control, convert_treatment]\n",
    "nobs = [n_control, n_treatment]\n",
    "\n",
    "# run z-test\n",
    "z_score, p_value = proportions_ztest(successes, nobs)\n",
    "print(f\"z-score: {z_score:.4f}\")\n",
    "print(f\"p-value: {p_value:.4f}\")"
   ]
  },
  {
   "cell_type": "markdown",
   "id": "d79366b6",
   "metadata": {},
   "source": [
    "# Confidence Interval for Conversion Rate Difference\n",
    "\n",
    "Calculate a 95% confidence interval for the difference in conversion rates between the treatment and control groups to quantify the range of plausible differences and assess practical significance."
   ]
  },
  {
   "cell_type": "code",
   "execution_count": 16,
   "id": "4f4fb294",
   "metadata": {},
   "outputs": [
    {
     "name": "stdout",
     "output_type": "stream",
     "text": [
      "Conversion rate difference: -0.0016\n",
      "95% confidence interval: [-0.0039, 0.0008]\n"
     ]
    }
   ],
   "source": [
    "import numpy as np\n",
    "\n",
    "# conversion rates\n",
    "cr_control = convert_control / n_control\n",
    "cr_treatment = convert_treatment / n_treatment\n",
    "\n",
    "# difference in conversion rates\n",
    "diff = cr_treatment - cr_control\n",
    "\n",
    "# standard error\n",
    "se_diff = np.sqrt(\n",
    "    (cr_control * (1 - cr_control)) / n_control +\n",
    "    (cr_treatment * (1 - cr_treatment)) / n_treatment\n",
    ")\n",
    "\n",
    "# 95% confidence interval\n",
    "z_critical = 1.96  # for 95% confidence\n",
    "ci_lower = diff - z_critical * se_diff\n",
    "ci_upper = diff + z_critical * se_diff\n",
    "\n",
    "print(f\"Conversion rate difference: {diff:.4f}\")\n",
    "print(f\"95% confidence interval: [{ci_lower:.4f}, {ci_upper:.4f}]\")"
   ]
  },
  {
   "cell_type": "markdown",
   "id": "11a36d80",
   "metadata": {},
   "source": [
    "## Conclusion and Recommendations\n",
    "\n",
    "After analyzing the A/B test data, we found no statistically significant difference in conversion rates between the control group (`old_page`) and the treatment group (`new_page`) at a 5% significance level (α = 0.05).\n",
    "\n",
    "| Group     | Sample Size | Conversion Rate | Difference | 95% CI           | P-value |\n",
    "|-----------|-------------|-----------------|------------|------------------|---------|\n",
    "| Control   | 145,274     | 12.04%          | -0.16%     | [-0.39%, 0.08%] | 0.1899  |\n",
    "| Treatment | 145,311     | 11.88%          |            |                  |         |\n",
    "\n",
    "**Key Findings**:\n",
    "- **Conversion Rates**: Control group: 12.04%, Treatment group: 11.88%.\n",
    "- **Difference**: -0.16% (slightly lower for the new page).\n",
    "- **95% Confidence Interval**: [-0.39%, 0.08%], which includes zero, indicating no significant difference.\n",
    "- **P-value**: 0.1899, well above 0.05, failing to reject the null hypothesis.\n",
    "\n",
    "**Recommendations**:\n",
    "- Retain the current (`old_page`) landing page, as the new page does not demonstrate improved conversion rates.\n",
    "- Consider extending the test duration to collect more data, which may increase statistical power.\n",
    "- Explore alternative landing page designs or features that could have a stronger impact on conversions.\n",
    "- Analyze user subgroups (e.g., by demographics or behavior) to identify any segment-specific effects."
   ]
  },
  {
   "cell_type": "code",
   "execution_count": null,
   "id": "46b30ebf",
   "metadata": {},
   "outputs": [],
   "source": []
  }
 ],
 "metadata": {
  "kernelspec": {
   "display_name": "Python 3 (ipykernel)",
   "language": "python",
   "name": "python3"
  },
  "language_info": {
   "codemirror_mode": {
    "name": "ipython",
    "version": 3
   },
   "file_extension": ".py",
   "mimetype": "text/x-python",
   "name": "python",
   "nbconvert_exporter": "python",
   "pygments_lexer": "ipython3",
   "version": "3.11.5"
  }
 },
 "nbformat": 4,
 "nbformat_minor": 5
}
